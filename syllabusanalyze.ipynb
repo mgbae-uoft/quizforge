{
 "cells": [
  {
   "cell_type": "code",
   "execution_count": 1,
   "metadata": {},
   "outputs": [],
   "source": [
    "from dotenv import load_dotenv\n",
    "import os\n",
    "load_dotenv()\n",
    "api_key = os.getenv(\"API_KEY\")"
   ]
  },
  {
   "cell_type": "code",
   "execution_count": 2,
   "metadata": {},
   "outputs": [],
   "source": [
    "from bs4 import BeautifulSoup\n",
    "def read_html_as_text(file_path):\n",
    "    try:\n",
    "        with open(file_path, 'r', encoding='utf-8') as file:\n",
    "            html_content = file.read()\n",
    "        \n",
    "        # Parse HTML and extract text\n",
    "        soup = BeautifulSoup(html_content, 'html.parser')\n",
    "        text = soup.get_text(separator=\"\\n\")  # Extract text with newlines\n",
    "        return text.strip()\n",
    "    except Exception as e:\n",
    "        return f\"Error reading file: {e}\""
   ]
  },
  {
   "cell_type": "code",
   "execution_count": 3,
   "metadata": {},
   "outputs": [
    {
     "name": "stdout",
     "output_type": "stream",
     "text": [
      "Requirement already satisfied: PyPDF2 in /Library/Frameworks/Python.framework/Versions/3.13/lib/python3.13/site-packages (3.0.1)\n",
      "\n",
      "\u001b[1m[\u001b[0m\u001b[34;49mnotice\u001b[0m\u001b[1;39;49m]\u001b[0m\u001b[39;49m A new release of pip is available: \u001b[0m\u001b[31;49m24.3.1\u001b[0m\u001b[39;49m -> \u001b[0m\u001b[32;49m25.0.1\u001b[0m\n",
      "\u001b[1m[\u001b[0m\u001b[34;49mnotice\u001b[0m\u001b[1;39;49m]\u001b[0m\u001b[39;49m To update, run: \u001b[0m\u001b[32;49mpip3 install --upgrade pip\u001b[0m\n",
      "Note: you may need to restart the kernel to use updated packages.\n"
     ]
    }
   ],
   "source": [
    "pip install PyPDF2"
   ]
  },
  {
   "cell_type": "code",
   "execution_count": 4,
   "metadata": {},
   "outputs": [
    {
     "name": "stdout",
     "output_type": "stream",
     "text": [
      "1  Department of Poli/cal Science Winter 2025  POL101H1 S The Real World of Poli5cs: An Introduc5on  Online, Asynchronous  Course Instructor: Professor Isabela Dos Santos Email address: i.dossantos@mail.utoronto.ca Oﬃce hours: by appointment, book a >me here  The names, contact informa/on, and tutorial assignments of the course Teaching Assistants will be posted on Quercus.   Your TA should be your primary point of contact for any ques8ons about this course.  Course descrip/on This course introduces students to key concepts and debates in poli>cal science by exploring contemporary issues such as the poli>cs of climate change, Indigenous rights, elec>ons and electoral systems, social movements, and war and peace.  Lectures are posted on Mondays.  Learning Objec/ves Through this course, students will: - Deepen their understanding of key concepts, ideas, and debates in poli>cal science - Apply their understanding of the key concepts, ideas, and debates to contemporary cases in world poli>cs - Learn to read and analyze academic ar>cles and books - Acquire discipline-speciﬁc wri>ng skills including wri>ng a thesis statement and construc>ng persuasive arguments  Course Materials All course materials are available online or posted on Quercus.   Tutorials  Students in this course must aNend a weekly tutorial. Tutorials will involve a combina>on of group discussions, small group work, and opportuni>es to prac>ce and get feedback on important wri>ng-related skills. Tutorials start the week of January 13, 2024.     \n",
      " \n",
      "2 Each tutorial group is assigned a TA who will lead your discussions and be available to you for oﬃce hours and by email. Your TA should be your primary point of contact for any ques/ons about this course.  Grading Scheme  Assignment 1: Introductory paragraph, including thesis statement – 12.5% Due January 26, 2025 @ 11:59PM EST via Quercus  Assignment 2: Using evidence to make a persuasive argument – 12.5% Due February 16, 2025 @ 11:59PM EST via Quercus  Short essay (5 pages) – 25% Due March 16, 2025 @ 11:59PM EST via Quercus  Final Exam – 35% Online, during exam period  Par/cipa/on – 15% Your par>cipa>on grade is evaluated by your TA, based on tutorial aNendance, ac>ve engagement in class discussion, and evidence that you have aNended the lecture and completed the readings for the week.   Late policy Late assignments will be penalized at a rate of 1% per day and will not be accepted aZer 7 days from the due date. Please pay careful aNen>on when submi\\ng assignments to Quercus as only certain ﬁle types are accepted and unreadable ﬁles will be marked as late.   Extension policy Extension requests should be made to your TA before the assignment is due. Extensions will be no more than one week (7 days). If you are a student registered with UofT’s Accessibility Services, kindly note that you must also request an extension before the assignment is due and that the extension cannot be more than one week.  Grade Appeals All course assignments are graded using a set of rubrics and scoring guides. This ensures that assignments are graded fairly, consistently, and objec>vely. If you believe that there was an error in the grading process, then you have the right to request a regrade of your assignment. To be considered for a regrade, you must wait at least 48 hours from receiving your assignment before submi\\ng a wriNen request for a regrade. Your wriNen regrade request should be sent to the Teaching Assistant assigned to you. Your request for a regrade must be raised within ten (10) days from the 48-hour wai>ng period. Regrade requests submi\\ed a]er this ten-day window has passed will not be considered.   \n",
      " \n",
      "3 The request for a regrade needs to be grounded in academic ra>onale and must be accompanied by clear reasoning for why a regrade is being requested. As such, it is expected that you will provide evidence in support of your regrade. This evidence must come from the course materials such as lecture notes, readings, and grading rubric.    It is also important to note that the reassessment of an assignment does not guarantee an increase in your grade. The assignment could receive a higher grade, the same grade, or a lower grade.  Plagiarism Chea>ng and plagiarism are serious academic oﬀences. University policy requires that course instructors refer suspected plagiarism cases to the Oﬃce of Academic Integrity for resolu>on. For further clariﬁca>on and informa>on, please see the University of Toronto’s policy on plagiarism at hNp://www.wri>ng.utoronto.ca/advice/using-sources/how-not-to-plagiarize.   “Normally, students will be required to submit their course essays to the University’s plagiarism detec>on tool for a review of textual similarity and detec>on of possible plagiarism. In doing so, students will allow their essays to be included as source documents in the tool’s reference database, where they will be used solely for the purpose of detec>ng plagiarism. The terms that apply to the University’s use of this tool are described on the Centre for Teaching Support & Innova>on web site (hNps://uoZ.me/pdt-faq).”  Use of Genera/ve AI “You may use ar>ﬁcial intelligence tools, including genera>ve AI, in this course as learning aids. If you choose to use ar/ﬁcial intelligence tools, you must submit, as an appendix with your assignment(s), a 150–200-word reﬂec/on on how you made use of genera/ve ar/ﬁcial intelligence tools in the development of the assignment(s). Your reﬂec>on must include what tools you used, how you used them, and how you incorporated the results from the AI into your assignment. In addi>on, any content produced by an ar/ﬁcial intelligence tool must be cited appropriately (view the U of T Libraries Cita>on Guide for Ar>ﬁcial Intelligence Genera>ve Tools). Finally, the course instructor and TAs reserve the right to ask students to explain their process for crea>ng their assignment.”  Accessibility Services The university is fully commiNed to providing students with fair access to their courses. Students with special needs or disabili>es are strongly encouraged to register with Accessibility Services to arrange for needed accommoda>ons.   Wri/ng Support Students can aNend workshops and arrange one-on-one appointments for feedback on their wriNen work. Students can visit www.wri>ng.utoronto.ca for informa>on and advice  \n",
      " \n",
      "4 on all aspects of academic wri>ng. Students are encouraged to make use of the college wri>ng centers for individualized consulta>ons on their wriNen assignments. Interested students should book their appointments with the wri>ng centers early, as they ﬁll up fast. Informa>on about the wri>ng centers is available at hNp://www.wri>ng.utoronto.ca/wri>ng-centres/arts-and-science. Students can also take advantage of the Library’s free “Wri>ng Plus” academic skills workshop series, described at hNp://www.wri>ng.utoronto.ca/wri>ng-plus. Interna>onal students can ﬁnd informa>on about the English Language Learning program (ELL), which includes prac>ce opportuni>es for improving oral communica>on and cri>cal reading skills, at hNp://www.artsci.utoronto.ca/current/advising/ell.     Registrar Support Students are encouraged to contact their registrar promptly if they experience unexpected challenges during the course that may require accommoda>ons.   Health and Wellness Students can access a wide range of programs and services to support their health and wellbeing. Many of these programs are listed at: hNps://studentlife.utoronto.ca/department/health-wellness/.    Crisis Support Students in distress can access a range of free crisis lines available from the University of Toronto and the City of Toronto, as listed below:  • University of Toronto: hNps://studentlife.utoronto.ca/task/support-when-you-feel-distressed/  • City of Toronto: hNps://www.toronto.ca/311/knowledgebase/kb/docs/ar>cles/311-toronto/informa>on-and-business-development/crisis-lines-suicide-depression-telephone-support-lines-non-crisis-mental-health-services.html    Most of these crisis lines are available 24 hours a day and some address speciﬁc problems that students may be experiencing. Immediate assistance is available as follows:  • My SSP for University of Toronto Students: 1-844-451-9700.  • Good 2 Talk Student Helpline: 1-866-925-5454  • Gerstein Crisis Centre: 416-929-5200  • Distress Centres of Greater Toronto: 416-408-HELP (4357)  • The Centre for Addic>on and Mental Health (CAMH): 250 College Street (walk-in)   You are not alone: please get help if you’re experiencing diﬃcul>es or are in distress.   \n",
      " \n",
      "5 Course Outline **Readings are listed in the order in which they should be read and may be subject to change.**  Week of January 6: What is poli/cs? This week we will explore the rela>onship between the government (or the state) and the people (or society). The rela>onship between the government and the people is the founda>onal rela>onship in the prac>ce of poli>cs and the study of poli>cal science.  1. ScoN, James C. 2008. “Introduc>on.” In Seeing Like a State: How certain schemes to improve the human condi8on have failed, 1-8. New Haven, Connec>cut: Yale UP . 2. Chambers, Simone and Jeﬀrey Kopstein. 2006. “Civil Society and the State.” In The Oxford Handbook of Poli8cal Theory, edited by John S. Dryzek, Bonnie Honig, and Anne Phillips, 377-395. Oxford: Oxford UP .   Week of January 13: How to Build a Government  This week we will look at diﬀerent models of organizing democra>c governments through a study of elec>ons and electoral systems.   1. Lundell, Krister. 2009. “Electoral Systems.” In The Origins of Electoral Systems in the Postwar Era: A worldwide approach, 17-31. London: Routledge. hNps://www-taylorfrancis-com.myaccess.library.utoronto.ca/chapters/mono/10.4324/9780203871843-10/electoral-systems-krister-lundell?context=ubx&refId=0eebf281-a486-4851-83f0-0d83107a7896  2. Taylor, Steven L., MaNhew Soberg Shugart, and Arend Lijphart. 2014. “Appendix: Examples of Various Electoral Systems.” In A Diﬀerent Democracy, 152-167. New Haven, Connec>cut: Yale UP . hNps://books-scholarsportal-info.myaccess.library.utoronto.ca/uri/ebooks/ebooks6/degruyter6/2021-09-14/4/9780300210705   Week of January 20: Is something wrong with democracy? This week we will explore the “decline” of democracy by looking at the development of democracy over >me. Our discussion will focus on the role of public debate and conversa>on in “ﬁxing” democracy.   1. Tormey, Simon. 2022. “Stresses and Strains: Will we ever agree on what’s going wrong with democracy?” Journal of Representa8ve Democracy 58, no. 1: 13-26. hNps://doi.org/10.1080/00344893.2021.2005674  2. Danisch, Robert and William Keith. 2023. “The Problem and the Promise.” In Radically Civil: Saving Democracy One Conversa8on at a Time, 1-17. New York: Routledge. hNps://doi-org.myaccess.library.utoronto.ca/10.4324/9781003442165    \n",
      " \n",
      "6 Week of January 27: What is poli/cal par/cipa/on? This week we will study poli>cal par>cipa>on through the lens of social movements. Our discussion will focus on both historical and contemporary social movements and the rela>onship between poli>cal par>cipa>on and democracy.   1. Tilly, Charles and Sidney Tarrow. 2015. “Making Claims.” In Conten8ous Poli8cs, 2nd ed., 3-24. New York: Oxford UP .  2. Woodly, Deva R. 2022. “Introduc>on: The Democra>c Necessity of Social Movements.” In Reckoning: Black Lives MaJer and the Democra8c Necessity of Social Movements, 3-19. New York: Oxford UP .  Week of February 3: Does iden/ty ma\\er in poli/cs?  This week we will be looking at the diﬀerent ways that iden>ty has been used as a poli>cal tool. We will do this by looking at how iden>>es became poli>cized over >me and how the historical and contemporary poli>ciza>on of iden>>es diﬀer.   1. Appiah, Kwame Anthony. 2006. “The Poli>cs of Iden>ty.” Dædalus 135, no.4: 15-22. hNps://doi.org/10.1162/daed.2006.135.4.15  2. Harcourt, Bernard E. 2022. “Being and Becoming: Rethinking Iden>ty Poli>cs: Combahee River Collec>ve Statement; How We Get Free: Black Feminism and the Combahee River Collec8ve, Keeanga-YamahNa Tylor; The Fateful Triangle: Race, Ethnicity, Na8on, Stuart Hall.” Social Research: An interna8onal quarterly 89, no. 2: 297-317. hNps://doi.org/10.1353/sor.2022.0020   Week of February 10: How do ideas shape poli/cs?  This week we will explore the role that ideas play in poli>cal change. We will do this by looking at populist movements across diﬀerent countries and diﬀerent poli>cal leanings.    1. Berman, Sheri. 2010. “Ideology, History, and Poli>cs.” In Ideas and Poli8cs in Social Science Research, edited by Daniel Béland and Robert Henry Cox, 105-126. Oxford: Oxford UP . hNps://doi.org/10.1093/acprof:oso/9780199736430.003.0006.  2. Betz, Hans-Georg. 2018. “Populist mobiliza>on across >me and space.” In The Idea8onal Approach to Populism: Concept, Theory and Analysis, edited by Kirk A. Hawkins, Ryan E. Carlin, Levente LiNvay, and Cristóbal Rovira Kaltwasser, 181-201. London: Routledge. hNps://doi-org.myaccess.library.utoronto.ca/10.4324/9781315196923   Week of February 17: READING WEEK – NO CLASS & NO TUTORIALS  Week of February 24: The Poli/cal Challenges of Climate Change Readings TBD    \n",
      " \n",
      "7 Week of March 3: Making Sense of American Poli/cs  This week we will study the American electoral system, focusing on the democra>c challenges that it faces. The challenges we will explore include gerrymandering, voter suppression, and how American elec>ons are funded.   1. Tamas, Bernard. 2023. “Beyond Gerrymandering: A structural crisis of the American electoral system.” New Poli8cal Science 45, no. 2: 359-379. hNps://doi.org/10.1080/07393148.2023.2203061  2. Wayne, Stephen J. 2024. “Has Money Corrupted Our Electoral Process?” In Is This Any Way to Run a Democra8c Elec8on?, 4th ed., 88-107. New York: Routledge. hNps://doi-org.myaccess.library.utoronto.ca/10.4324/9781032691435   Week of March 10: Do interna/onal organiza/ons ma\\er? This week we will explore the rise and fall of interna>onal organiza>ons in world governance. We will look at the way that the interna>onal system has been corrupted by the interests of individual governments and explore why and how the interna>onal system needs to be ﬁxed.   1. Vreeland, James Raymond. 2019. “Corrup>ng Interna>onal Organiza>ons.” Annual Review of Poli8cal Science 22: 205-222. hNps://doi.org/10.1146/annurev-polisci-050317-071031  2. Karns, Margaret P ., Tana Johnson, and Karen A. Mingst. 2024. “Why Global Governance?” In Interna8onal Organiza8ons: The poli8cs and processes of global governance 4th ed., 1-44. Boulder, CO: Lynne Rienner Publishers.  Week of March 17: Why is the world at war? This week we will explore the rise in contemporary global conﬂict by looking at two diﬀerent explana>ons for war: territorial dispute and ins>tu>onal failure. We will look at whether or not these explana>ons for war can help us understand the global conﬂicts of today.    1. Beals, Emma and Peter Salisbury. “A World at War: What is Behind the Global Explosion of Violent Conﬂict?” Foreign Aﬀairs. October 30, 2023. hNps://www.foreignaﬀairs.com/africa/world-war.  2. Charaniya, Amaan. “The Territorial Roots of Interstate Conﬂict.” The SAIS Review of Interna8onal Aﬀairs. April 7, 2024. hNps://saisreview.sais.jhu.edu/the-territorial-roots-of-interstate-conﬂict/.         \n",
      " \n",
      "8 Week of March 24: How do we make peace? This week we will explore diﬀerent theories of peace. We will look at how poli>cal scien>sts deﬁne peace and how they turn those deﬁni>ons from theory into prac>ce.   1. Galtung, John. 1969. “Violence, Peace, and Peace Research.” Journal of Peace Research 6, no. 3: 167-191. 2. Richmond, Oliver. 2005. “Conceptualising Peace.” In The Transforma8on of Peace, 183-201. Hampshire, UK: Palgrave Macmillan. 3. van Tongeren, Paul, JulieNe Verhoeven, and Jim Wake. 2005. “People Building Peace: Key Messages and Essen>al Findings.” In People Building Peace II: Successful Stories of Civil Society, edited by Paul van Tongeren, Malin Brenk and Marte Hellema, 83-94. Boulder, USA: Lynne Rienner Publishers.   Week of March 31: Can poli/cs make the world a be\\er place? This week we will focus our study on the role that our everyday lives can play in making our world a beNer place. We will explore the idea of the everyday life as “revolu>onary.” To do this, we are going to look at case studies in peacebuilding from around the world.   1. Bayat, Asef. 2021. “Everyday Life and Revolu>on.” In Revolu8onary Life: The Everyday of the Arab Spring, 7-43. Cambridge, MA: Harvard UP . 2. Autesserre, Séverine. 2021. “Peace by Piece.” In The Frontlines of Peace: An Insider’s Guide to Changing the World, 123-150. New York: Oxford UP . hNps://doi.org/10.1093/oso/9780197530351.003.0005.\n"
     ]
    }
   ],
   "source": [
    "import PyPDF2\n",
    "\n",
    "def extract_text_from_pdf(file_path):\n",
    "    try:\n",
    "        with open(file_path, 'rb') as pdf_file:\n",
    "            reader = PyPDF2.PdfReader(pdf_file)\n",
    "            text = \"\"\n",
    "            for page in reader.pages:\n",
    "                text += page.extract_text()\n",
    "            return text.strip()\n",
    "    except Exception as e:\n",
    "        return f\"Error reading PDF: {e}\"\n",
    "\n",
    "# Example Usage\n",
    "syllabus = extract_text_from_pdf(\"syllabus/pol.pdf\")\n",
    "print(syllabus)"
   ]
  },
  {
   "cell_type": "code",
   "execution_count": 5,
   "metadata": {},
   "outputs": [],
   "source": [
    "syllabus = read_html_as_text(\"/Applications/XAMPP/xamppfiles/htdocs/quizforge/syllabus/csc165.htm\")"
   ]
  },
  {
   "cell_type": "code",
   "execution_count": 6,
   "metadata": {},
   "outputs": [],
   "source": [
    "syllabus = read_html_as_text(\"/Applications/XAMPP/xamppfiles/htdocs/quizforge/syllabus/csc148.htm\")"
   ]
  },
  {
   "cell_type": "code",
   "execution_count": 7,
   "metadata": {},
   "outputs": [],
   "source": [
    "syllabus = read_html_as_text(\"/Applications/XAMPP/xamppfiles/htdocs/quizforge/syllabus/csc209.htm\")"
   ]
  },
  {
   "cell_type": "code",
   "execution_count": 8,
   "metadata": {},
   "outputs": [
    {
     "data": {
      "text/plain": [
       "'Syllabus for CSC209H1S 20251 (All Sections): Software Tools and Systems Programming\\n\\n\\n\\n\\n\\n\\n\\n\\n\\n\\n\\n\\n\\n\\n\\n\\n\\n\\n\\n\\n\\n\\n\\n\\n\\n\\n\\n\\n\\n\\n\\n\\n\\n\\n\\n\\n\\n\\n\\n\\n\\n\\n\\n\\n\\n\\n\\n\\n\\n\\n\\n\\n\\n\\n\\n\\n\\n\\n\\nYou need to have JavaScript enabled in order to access this site.\\n\\n\\n\\n\\n\\n\\n\\n\\n\\n\\n\\n\\n\\n\\n\\n\\n\\n\\n\\n\\nDashboard\\n\\n\\n\\n\\n\\n\\n\\n\\nCSC209H1S 20251 (All Sections)\\n\\n\\nSyllabus\\n\\n\\n\\n\\n\\n\\n\\n\\n\\n\\n\\n\\n\\n\\n\\n\\n\\n\\n\\n\\n\\n\\nImmersive Reader\\n\\n\\n\\n\\n\\n\\n\\n\\n\\n\\n\\n\\n\\n\\n\\n\\nSkip To Content\\n\\n\\n\\n\\n\\n\\n\\n\\nDashboard\\n\\n\\n\\n\\n\\n\\n\\n\\n\\n\\n\\n\\n\\n\\n\\n\\n\\n\\n\\n\\n\\n\\n\\n\\n\\n              Account\\n            \\n\\n\\n\\n\\n\\n\\n\\n\\n\\n\\n\\n\\n\\n\\n\\n\\n\\n            Dashboard\\n          \\n\\n\\n\\n\\n\\n\\n\\n\\n\\n\\n\\n\\n\\n\\n\\n\\n\\n              Courses\\n            \\n\\n\\n\\n\\n\\n\\n\\n\\n\\n\\n\\n\\n\\n\\n\\n\\n\\n            Calendar\\n          \\n\\n\\n\\n\\n\\n\\n\\n\\n\\n\\n\\n\\n\\n\\n\\n\\n\\n\\n39 unread messages.\\n39\\n\\n\\n\\n\\n\\n            Inbox\\n          \\n\\n\\n\\n\\n\\n\\n\\n\\n\\n\\n\\n\\n\\n\\n\\n\\n\\n\\n\\n\\n\\n              History\\n            \\n\\n\\n\\n\\n\\n\\n\\n\\n\\n\\n\\n\\n\\n          Course Evals\\n        \\n\\n\\n\\n\\n\\n\\n\\n\\n\\n\\n\\n\\n\\n\\n\\n\\n\\n\\n\\n            Help\\n          \\n\\n\\n \\n\\n\\n\\n\\n\\n\\n\\n\\n\\n\\n\\n\\n\\n\\n\\n\\n\\n\\n\\n\\n\\n\\n\\n\\n\\n\\n\\n\\n\\n\\n\\n\\n\\n\\n\\n\\n\\n\\n\\n\\nClose\\n\\n\\n\\n\\n\\n\\n\\n\\n\\n\\n\\n\\n\\n\\n\\n\\n\\n\\n\\n\\nMy Dashboard\\n\\n\\n\\n\\nCSC209H1S 20251 (All Sections)\\nSyllabus\\n\\n\\n\\n\\n\\n\\n\\n\\n\\n\\n\\n\\n\\n\\n\\n\\n\\n\\n\\n\\n\\n\\n\\n\\nImmersive Reader\\n\\n\\n\\n\\n\\n\\n\\n\\n\\n\\n\\n\\n\\n\\n2025 Winter\\n\\n\\nHome\\nSyllabus\\nAnnouncements\\nAssignments\\nMarkUs\\nPCRS\\nPiazza\\nGrades\\nLibrary Resources\\nOCCS Student App\\n\\n\\n\\n\\n\\n\\n\\n\\n\\n\\n\\n\\n\\n\\n\\n\\nCourse Syllabus\\n\\n\\n\\n\\n\\n\\n\\n\\n\\n\\n\\n\\nCalendar Description\\n\\n\\nSoftware techniques in a Unix-style environment, using scripting languages and a machine-oriented programming language (typically C). What goes on in the operating system when programs are executed. Core topics: creating and using software tools, pipes and filters, file processing, shell programming, processes, system calls, signals, basic network programming.\\n\\n\\nInstructors\\n\\n\\n\\n\\n\\n\\n\\n\\nInstructor\\n\\n\\nLecture Section\\n\\n\\nLecture\\n\\n\\nEmail\\n\\n\\n\\n\\n\\n\\n\\n\\nKaren Reid\\n\\n\\nOffice: BA 4224\\n\\n\\n\\n\\n\\n\\nLEC0201\\n\\n\\n\\n\\nMY 150\\n, Tues 3-4 PM, Thurs 3-4 PM\\n\\n\\ncsc209-2025-01@cs.toronto.edu\\n\\n\\n\\n\\n\\n\\n\\n\\nLEC0202\\n\\n\\n\\n\\n\\n\\n\\n\\n\\n\\nPaul He\\n\\n\\nOffice: BA 4238\\n\\n\\n\\n\\nLEC0101\\n\\n\\nEM 001\\n, Tues 10-11 AM, Thurs 10-11 AM\\n\\n\\n\\n\\n\\n\\n\\n\\nLEC5101\\n\\n\\n\\n\\nRW 110\\n, Tues 6-8 PM\\n\\n\\n\\n\\n\\n\\n\\n\\n\\xa0\\n\\n\\nOffice Hours\\n\\n\\nKaren:\\xa0 Tuesday and Thursday 4-5pm\\xa0 Room TBA\\n\\n\\nPaul: Monday 1-2pm and Wednesday 2-3pm in BA 4290\\n\\n\\nLabs\\n\\n\\nYou have signed up on ACORN for a separate tutorial/lab time slot.\\xa0 These labs are held in person in a teach.cs lab in the Bahen building. The number of different sessions in each time slot may change based on attendance patterns. The primary purpose of the labs is to help you complete the weekly labs.\\xa0 Note that one lab must be completed in-person to receive credit.\\xa0 This will be announced well in advance.\\n\\n\\n\\n\\n\\n\\n\\n\\nRoom\\n\\n\\nTA\\n\\n\\n\\n\\n\\n\\nBA3175\\n\\n\\n\\n\\n\\n\\n\\n\\nBA3185\\n\\n\\n\\n\\n\\n\\n\\n\\nBA3195\\n\\n\\n\\n\\n\\n\\n\\n\\nBA2200\\n\\n\\n\\n\\n\\n\\n\\n\\n\\n\\nProfessionalism in CSC209\\n\\n\\nWe are committed to creating a respectful learning environment in CSC courses for all students and expect that you will adhere to the University of Toronto \\nCode of Student Conduct\\n. Please be mindful of how your behaviour influences the atmosphere in our learning community, not just in classes, but also in computer labs, in online forums, and anywhere that you interact with other students and members of the department.\\n\\n\\nCourse Materials\\n\\n\\n\\n\\nC Programming: A Modern Approach\\n\\n\\n\\n\\n\\n\\nLinks to an external site.\\n, K.N. King, W. W. Norton and Company, 2008. Note: The C book (or another similar) should be considered required. This is a particularly good book for learning C and online resources are not as good or plentiful as they are for other languages.\\n\\n\\n\\n\\nThe \\nLinux Programming Interface\\n\\n\\n\\n\\n\\n\\nLinks to an external site.\\n, Michael Kerrisk, No Starch Press, 2010 (\\nerrata\\n\\n\\n\\n\\n\\n\\nLinks to an external site.\\n). This book is recommended. Some students like to have the additional resource for the systems programming part of the course, and other get by fine without it. This book won’t be used until about halfway through the course\\n\\n\\n\\n\\n\\n\\nHandouts, assignments, marks, and important course information will be posted periodically on Quercus. You should visit regularly to check. Important assignment announcements will be posted on the discussion board (Piazza). You are responsible for announcements made in class, on Quercus, and on pinned instructor posts on Piazza.\\n\\n\\nDiscussion Board - Piazza\\n\\n\\nThe discussion board is the best place to ask technical questions, and general questions about the course, assignments and labs.\\n\\n\\nEmail\\n\\n\\nPlease use the course email address \\ncsc209-2025-01@cs.toronto.edu\\n for personal questions and the discussion board for all other course-related questions. We will try to respond to email by the end of the next business day. However, due to volume, it may take longer.\\n\\n\\nPlease send email from your UofT email address and include your full name and UTORid.\\n\\n\\nCourse Prerequisites\\n\\n\\nTo take CSC209, you must have previously completed CSC207 (or CSCB07 at UTSC) or have the permission of the instructor. Students who do not have the prerequisite will receive email from the undergrad office regarding their options.\\n\\n\\nMarking Scheme and Schedule\\n\\n\\n\\n\\n\\n\\n\\n\\nWork\\n\\n\\nWeight\\n\\n\\nDeadline\\n\\n\\n\\n\\n\\n\\n\\n\\n\\n\\nLecture Preparation (PCRS)\\n\\n\\n5% (best 9 of 11)\\n\\n\\nTuesdays before 9am (weeks 2 - 12)\\n\\n\\n\\n\\n\\n\\nLab Exercises\\n\\n\\n7% (best 8 of 10) \\n\\n\\nFridays before 10pm (weeks 1 - 11, one week will not have a lab)\\n\\n\\n\\n\\n\\n\\nA1\\n\\n\\n7%\\n\\n\\nThu 30 Jan, before 10pm\\n\\n\\n\\n\\n\\n\\nTerm Test 1\\n\\n\\n10%\\n\\n\\nTue 4 Feb, during your lecture section \\n\\n\\n\\n\\n\\n\\nA2\\n\\n\\n10%\\n\\n\\nThu 6 Mar, before 10pm\\n\\n\\n\\n\\n\\n\\nTerm Test 2\\n\\n\\n10%\\n\\n\\nTue 11 Mar, during your lecture section\\n\\n\\n\\n\\n\\n\\nA3\\n\\n\\n10%\\n\\n\\nThu 3 Apr, before 10 pm\\n\\n\\n\\n\\n\\n\\nResearch Surveys\\n\\n\\n1% (0.5% x 2 surveys)\\n\\n\\nSurvey 1: \\nlink\\n\\n\\n\\n\\n\\n\\nLinks to an external site.\\n, Survey 2: TBA\\n\\n\\n\\n\\n\\n\\nFinal exam\\n\\n\\n40%\\n\\n\\nMinimum grade of 40% required to pass this course\\n\\n\\n\\n\\n\\n\\n\\n\\n\\xa0\\n\\n\\n\\n\\nLecture Prep and Exercises\\n\\n\\nResearch consistently shows us that students remember only a small fraction of what we present in lecture. It is not easy to make sense of material that you see for the first time in the first half-hour of a fast-paced lecture environment, let alone to stay focused for two hours. It’s also important to space out your studying (spaced repetition). To prime you for what we will discuss, you will view a set of videos and complete exercises by 9 am Tuesday. These are the “Preparation” exercises hosted on PCRS: \\nhttps://pcrs.teach.cs.toronto.edu/csc209-2025-01/\\n\\n\\n\\n\\n\\n\\nLinks to an external site.\\n. You may attempt the PCRS exercises any number of times, and may redo them after the deadlines.\\n\\n\\nTests\\n\\n\\nThe term tests will be held during your regular lecture time slot but not in the regular lecture room.\\xa0 Detailed information about the test will be published in advance of the test on the Tests page.\\xa0\\n\\n\\nStudents must write each test during the time slot for the lecture section in which they are enrolled.\\xa0 If this will cause problems (e.g. conflicts with tests in other courses), please fill out this \\nform\\n\\n\\n\\n\\n\\n\\nLinks to an external site.\\n\\xa0 by January 23 at 5pm. We will only be able to allow students to write with another section if there is enough space.\\n\\n\\nIf you miss one term test and received special consideration for it, the marks will be shifted to the other term test and final exam.\\xa0 If you miss two term tests, you will need to write a make-up test to be held on March 21 at a time to be arranged with your instructor.\\n\\n\\nTo pass the course, you must receive at least 40% on the final exam.\\n\\n\\nAssignments\\n\\n\\nAssignments will be programming assignments in C and will be done individually.\\xa0 Assignments will be submitted using MarkUs and Git.\\xa0 You are expected to have working command-line knowledge of Git from CSC207 or prior experience.\\xa0 Assignment code must execute correctly on the teach.cs machines.\\n\\n\\nMinimum Standards for Submitted Work\\n: For your assignment to be graded, it must meet the minimum standards of a professional computer scientist. \\nAll\\n files required to build the program must be committed to the repository, and the program must compile without warnings or errors. \\nYour submission will receive a grade of 0 if it doesn’t compile. Your submission will receive a 10% deduction in the total marks if it compiles with warnings.\\n\\n\\nLate Work:\\n The late policy is strict. Please see the Special Consideration section below for information on how to ask for an extension for assignments. Labs and Lecture preparations are not eligible for extensions.\\n\\n\\nAssignments are due before 10 pm on the due date. There is a one-hour grace period after the deadline during which assignments will be accepted with out penalty or asking for an extension.\\xa0 However one second after 11pm is late.\\xa0 We recognize that unexpected problems sometimes make it difficult to submit assignments on time.\\n\\n\\nIf you are at risk of missing a deadline due to a busy week, you should hand in a working (and tested) version of a simpler program. This will be easy to do if you have written and debugged a series of programs that accomplish more and more of the assigned problem.\\n\\n\\nIn the event of an illness or other catastrophe, contact your instructor (by email or in person) as soon as possible. Do not wait until the due date has passed. It is always easier to make alternate arrangements before the due date or test day.\\n\\n\\nSince your assignments are submitted electronically and will often be tested using an automated testing program, you must follow the submission instructions exactly. If \\nyou\\n do not, you will most likely lose substantial marks on the assignment. Check your submission carefully.\\n\\n\\nRemark Requests:\\n\\n\\nAll remark r\\nequests must be submitted on MarkUs within \\ntwo weeks\\n of the marks being returned. No late requests will be accepted. There are two different types of remark requests:\\n\\n\\n\\n\\nRemarking requests due to mis-marking.\\n\\n\\n\\n\\nIf a piece of work has been marked incorrectly, you may request a remark. For a remark to succeed, you must clearly and concisely express what you believe was mis-marked. There is no penalty for this type of remark request.\\n\\n\\n\\n\\nTo request a remark for an assignment, submit the remark request on MarkUs. Instructions regarding any mis-marking of the midterm test will be provided when the marked tests are returned.\\n\\n\\nProvide a clear and concise description of the marking errors that you have found.\\xa0 Please be aware that your entire assignment/test may be remarked.\\n\\n\\n\\n\\n\\n\\n\\n\\n\\n\\n\\n\\nRemarking requests due to incorrect submissions.\\xa0 \\nThis type of remark request is only for Assignments; Remarks of this type are not permitted for labs (instead, labs have a best 9 of 11 marking policy). For example, a last-minute typo caused your code to fail to compile, or you forgot to commit a necessary file to your repository, or a small different in output led to many tests failing.\\n\\n\\n\\n\\n\\n\\nIf you lost a considerable number of marks for what you have determined is a small error in submission:\\n\\n\\n\\n\\nYou can submit a remark request on MarkUs that includes a \\nvery clear\\n explanation of the error and describes how one or two lines of code should be changed in order to fix the error.\\n\\n\\nYou should re-submit your assignment with the changes described above made to fix the error (again, this should only involve a line or two of code).\\n\\n\\nThere will be \\na 20% penalty\\n for this fix, so you should only ask for it if you think you will gain more than 20% of the total marks.\\n\\n\\n\\n\\n\\n\\n\\n\\n\\n\\n\\n\\nSpecial Consideration\\n\\n\\nOne reason that we allow students to count the best 9 of 11 (for prepare exercises and labs) is so that they can miss a submission due to illness or other unexpected circumstances. This policy is also intended to cover students who enrol late to the course.\\n\\n\\nWe recognize that unexpected problems, illness, and disability-related barriers sometimes make it difficult to submit assignments on time. For this reason, we are adopting a policy of automatic extensions with respect to assignment submissions. You may request an extension of up to one week for an assignment submission by completing this \\nform\\n\\n\\n\\n\\n\\n\\nLinks to an external site.\\n.\\n\\n\\nWhen an extension is granted under this policy, MarkUs will be updated to reflect the extended deadline. This update may take up to a day to take effect. The maximum extension that can be allowed is one week. Any assignments submitted beyond the one week extension and the one-hour grace period (even 1 second beyond) will not be graded.\\n\\n\\nThis policy is intended to cover students who are registered with Accessibility services and require extra time to complete assignments as well as students who discover that they are unable to meet the original assignment deadline. Do not use it lightly to simply shift the original deadline. For example, if a student has been granted an extension of 1 week and then becomes ill on the extended deadline, no further extension will be given unless the student has been ill for more than 7 days or the student’s college registrar is involved due to extremely extenuating circumstances.\\n\\n\\nYou may make use of this policy on as many assignments as you require. However, if you submit extension requests for more than one assignment, we may reach out to connect you with campus supports to help you stay on track in the future (e.g. your college registrar).\\n\\n\\n\\n\\nIMPORTANT: \\nSubmit your request soon as possible if you find yourself in such a situation. It is easier to resolve situations earlier rather than later.\\n\\xa0If your emergency will affect your ability to complete coursework for more than a few days, or in multiple courses, we recommend you also talk to your registrar.\\n\\n\\nIf a \\nreligious holiday\\n will keep you from completing any assigned work and this does \\nnot\\n fit with the special consideration provision, please let your instructor know as soon as possible (but no later than two weeks before the due date), and we will work out a mutually agreeable accommodation.\\n\\n\\nLecture Recordings\\n\\n\\n\\n\\n\\n\\nWe are participating in the University of Toronto\\'s\\xa0\\nOpencast Content Capture Pilot\\n, which will automatically record lectures and post them on the\\xa0\\nOCCS Student App.\\n However, because of the amount of active learning that will take place during lecture, please note that simply watching these videos is\\xa0\\nnot\\n\\xa0a substitute for attending class! Our recommendation is to use these recordings for review purposes only, or if you miss a lecture due to extenuating circumstances. If you did miss the lecture, we strongly recommend working through the in-class exercises (which are posted separately on Quercus) when we reach those points in the lecture, so that your experience is as close to the live classroom experience as possible. These recordings are meant for your personal learning, and you may\\xa0\\nnot\\n\\xa0distribute these recordings or make your own (please see the\\xa0Copyright notice\\xa0below).\\n\\n\\nAcademic Integrity\\n\\n\\n\\n\\nAll of the work you submit must be done by you and your work must not be submitted by someone else. Plagiarism is academic fraud and is taken very seriously. The department uses software that compares programs for evidence of similar code. Please read the \\nRules and Regulations\\n from the U of T Calendar (especially the Code of Behaviour on Academic Matters). Here are a couple of guidelines to help you avoid plagiarism:\\n\\n\\n\\n\\n\\n\\nIf you find snippets of code or examples on the web that you want to use in your work, you must cite your sources. In other words, include in a source code comment, a link to where you found the code you are using.\\n\\n\\n\\n\\nIf you use CoPilot or other AI tools to generate code for your work, you must cite the code that it generated.\\xa0 This is not necessary for code completion type use which would be similar to grammar corrections in written work, but code chunks of more than 2 lines must be cited.\\xa0 Remember that you are responsible for your own learning and assignments and labs are intended to help you develop your skills.\\n\\n\\n\\n\\nMaintain absolute control of your work – including notes and partial solutions – at all times. We encourage you to discuss course concepts and to study for exams with other students, but any work that is submitted should be your own. \\nThe easiest way to avoid plagiarism is to only discuss submitted work with your instructors and TAs. Similarly, Google (and Wikipedia) may help you with course material, but do not use the internet to look for solutions to the assignment problems.\\n\\n\\n\\n\\n\\n\\n\\xa0\\n\\n\\nAdditional Policies & Statements\\n\\n\\nReligious Accommodations\\n\\n\\nAs a student at the University of Toronto, you are part of a diverse community that welcomes and includes students and faculty from a wide range of cultural and religious traditions. For my part, I will make every reasonable effort to avoid scheduling tests, examinations, or other compulsory activities on religious holy days not captured by statutory holidays. Further to University Policy, if you anticipate being absent from class or missing a major course activity (such as a test or in-class assignment) due to a religious observance, please let me know as early in the course as possible, and with sufficient notice (at least two to three weeks), so that we can work together to make alternate arrangements.\\n\\n\\nStudents with Disabilities or Accommodation Requirements\\n\\n\\nStudents with diverse learning styles and needs are welcome in this course. If you have an acute or ongoing disability issue or accommodation need, you should register with Accessibility Services (AS) at the beginning of the academic year by visiting \\nhttps://studentlife.utoronto.ca/department/accessibility-services/\\n. Without registration, you will not be able to verify your situation with your instructors, and instructors will not be advised about your accommodation needs. AS will assess your situation, develop an accommodation plan with you, and support you in requesting accommodation for your course work. Remember that the process of accommodation is private: AS will not share details of your needs or condition with any instructor, and your instructors will not reveal that you are registered with AS.\\n\\n\\nAcademic Integrity\\n\\n\\nAll suspected cases of academic dishonesty will be investigated following procedures outlined in the \\nCode of Behaviour on Academic Matters (https://governingcouncil.utoronto.ca/secretariat/policies/code-behaviour-academic-matters-july-1-2019)\\n. If you have questions or concerns about what constitutes appropriate academic behaviour or appropriate research and citation methods, please reach out to me. Note that you are expected to seek out additional information on academic integrity from me or from other institutional resources. Consult the Code of Behaviour on Academic Matters for a complete outline of the University\\'s policy and expectations. For more information, please see \\nA&S Student Academic Integrity (https://www.artsci.utoronto.ca/current/academic-advising-and-support/student-academic-integrity)\\n and the \\nUniversity of Toronto Website on Academic Integrity (https://www.academicintegrity.utoronto.ca)\\n.\\n\\n\\nVideo Recording and Sharing (Download and Re-use Prohibited)\\n\\n\\nThis course, including your participation, will be recorded on video and will be available to students in the course for viewing remotely and after each session.\\nCourse videos and materials belong to your instructor, the University, and/or other sources depending on the specific facts of each situation and are protected by copyright. Do not download, copy, or share any course or student materials or videos without the explicit permission of the instructor.\\nFor questions about the recording and use of videos in which you appear, please contact your instructor.\\n\\n\\nCopyright notice\\n\\n\\nCourse materials prepared by the instructor are considered by the University to be an instructor’s intellectual property covered by the Copyright Act, RSC 1985, c C-42. \\nThese materials are made available to you for your personal use, and cannot be shared outside of the class or published (made publicly available) in any way. Posting course materials or any recordings you may make to other websites without the express permission of the instructor will constitute copyright infringement.\\n\\n\\nThis notice applies to all course materials, including (but not limited to): course notes, lecture slides, lecture recordings, lecture and lab handouts, sample solutions, and assessment handouts, starter code, and solutions.\\n\\n\\n\\n\\n\\n\\n\\n\\nThe syllabus page shows a table-oriented view of the course schedule, and the basics of\\ncourse grading.  You can add any other comments, notes, or thoughts you have about the course\\nstructure, course policies or anything else.\\n\\n\\nTo add some comments, click the \"Edit\" link at the top.\\n\\n\\n\\n\\n\\n\\nSyllabus Description:\\n\\n\\n\\n\\n\\n\\n\\n\\n\\n\\nShow Course Summary\\n\\n\\n\\n\\n\\n\\nCancel\\n\\n\\nUpdate Syllabus\\n\\n\\n\\n\\n\\n\\n\\n\\n\\n\\n\\n\\n\\n\\n\\n\\n\\n\\n\\n\\n\\n\\n\\n\\n\\n\\n\\n\\n\\n\\n37a7bbb3-f330-43d8-be3e-df647261173b'"
      ]
     },
     "execution_count": 8,
     "metadata": {},
     "output_type": "execute_result"
    }
   ],
   "source": [
    "syllabus"
   ]
  },
  {
   "cell_type": "code",
   "execution_count": 9,
   "metadata": {},
   "outputs": [],
   "source": [
    "prompt = \"\"\"\n",
    "Refer to the whole syllabus. Your response format should be the json format below. Don't add any other contents.\n",
    "{\"course title\":\"~~\",\"course code\":\"~~\",\"important dates\": {\"YYYY/MM/DD\": \"event1\", \"YYYY/MM/DD\": \"event2\" ...},\"course overview\":\"~~\",\"course email\":\"~~\",\"marking scheme\":{\"percentage\": \"what\", \"percentage\": \"what\" ...},\"required materials\":\"~~\",\"attendance policy\":\"~~\",\"late submission policies\":\"~~\"}\n",
    "\"\"\"+syllabus"
   ]
  },
  {
   "cell_type": "code",
   "execution_count": 10,
   "metadata": {},
   "outputs": [],
   "source": [
    "import openai\n",
    "openai.api_key = api_key\n",
    "\n",
    "completion = openai.chat.completions.create(\n",
    "    model=\"gpt-3.5-turbo\",\n",
    "    messages=[\n",
    "        {\"role\": \"system\", \"content\": \"You are my university course assistant. Please follow the format I've given you.\"},\n",
    "        {\n",
    "            \"role\": \"user\",\n",
    "            \"content\":prompt,\n",
    "        }\n",
    "    ]\n",
    ")\n",
    "\n",
    "print(completion.choices[0].message.content)"
   ]
  },
  {
   "cell_type": "code",
   "execution_count": null,
   "metadata": {},
   "outputs": [],
   "source": []
  },
  {
   "cell_type": "code",
   "execution_count": null,
   "metadata": {},
   "outputs": [],
   "source": []
  },
  {
   "cell_type": "code",
   "execution_count": null,
   "metadata": {},
   "outputs": [],
   "source": []
  },
  {
   "cell_type": "code",
   "execution_count": null,
   "metadata": {},
   "outputs": [],
   "source": []
  }
 ],
 "metadata": {
  "kernelspec": {
   "display_name": "Python 3",
   "language": "python",
   "name": "python3"
  },
  "language_info": {
   "codemirror_mode": {
    "name": "ipython",
    "version": 3
   },
   "file_extension": ".py",
   "mimetype": "text/x-python",
   "name": "python",
   "nbconvert_exporter": "python",
   "pygments_lexer": "ipython3",
   "version": "3.13.1"
  }
 },
 "nbformat": 4,
 "nbformat_minor": 2
}
